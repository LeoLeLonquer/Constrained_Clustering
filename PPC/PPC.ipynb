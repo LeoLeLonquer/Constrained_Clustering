{
 "cells": [
  {
   "cell_type": "markdown",
   "metadata": {},
   "source": [
    "## Constrained programming with PPC"
   ]
  },
  {
   "cell_type": "code",
   "execution_count": 1,
   "metadata": {
    "collapsed": true
   },
   "outputs": [],
   "source": [
    "from config import setup\n",
    "setup()"
   ]
  },
  {
   "cell_type": "code",
   "execution_count": 100,
   "metadata": {},
   "outputs": [
    {
     "name": "stdout",
     "output_type": "stream",
     "text": [
      "[[ 2.63185834  0.6893649 ]\n",
      " [ 0.08080352  4.69068983]\n",
      " [ 3.00251949  0.74265357]\n",
      " [-0.63762777  4.09104705]\n",
      " [-0.07228289  2.88376939]]\n"
     ]
    }
   ],
   "source": [
    "import matplotlib.pyplot as plt\n",
    "from sklearn.datasets import make_blobs\n",
    "from sklearn.metrics.pairwise import pairwise_distances\n",
    "Data, y = make_blobs(n_samples=100, centers=3, n_features=2,random_state=0)\n",
    "ml=[(1,5),(5,6)]\n",
    "cl=[(1,3),(4,7)]\n",
    "print(Data[:5])"
   ]
  },
  {
   "cell_type": "code",
   "execution_count": 101,
   "metadata": {
    "collapsed": true
   },
   "outputs": [],
   "source": [
    "from docplex.cp.model import CpoModel\n",
    "\n",
    "\n",
    "def create_csp_clustering(P): #P is the set of data and constraints\n",
    "    mdl = CpoModel(name='Clustering constraints')\n",
    "    print(\"Calculating distances...\")\n",
    "    Dist = pairwise_distances(P)\n",
    "    \n",
    "    k_min = 3\n",
    "    k_max = 3\n",
    "    N = len(P)\n",
    "    \n",
    "    #Creating vars\n",
    "    \n",
    "    k=mdl.integer_var(k_min,k_max,\"k\")\n",
    "    # D=mdl.float_var(min(Dist),+inf)\n",
    "    # S=mdl.float_var(-inf, max(Dist))\n",
    "    # V=mdl.float_var(0,+inf)\n",
    "    Labels = mdl.integer_var_list(N, 1, k_max, \"x\") # xi = n if xi is in cluster n\n",
    "    \n",
    "    #Partition constraints\n",
    "    \n",
    "    ##k must grow with the number of clusters\n",
    "    for i in range(N):\n",
    "        mdl.add(Labels[i] <= k)\n",
    "    \n",
    "    ##break cluster symmetry by forcing order(Use precede if found)\n",
    "    mdl.add(Labels[0] == 1) # First cluster is labbelled 1\n",
    "    for i in range(1,N):\n",
    "        mdl.add(Labels[i] <= mdl.max(Labels[:i]) + 1)\n",
    "\n",
    "        \n",
    "    #User constraints\n",
    "    ##Must-link\n",
    "    #for i in range(N):\n",
    "    #    for j in range(N):\n",
    "    #        if Mustlink[i,j]:\n",
    "    #            mdl.add(Labels[i]==Labels[j])\n",
    "    for i,j in ml:\n",
    "         mdl.add(Labels[i]==Labels[j])       \n",
    "    # mdl.add(D > Dist(i,j))\n",
    "    ##Cannot-link\n",
    "    #for i in range(N):\n",
    "    #    for j in range(N):\n",
    "    #        if Cannotlink[i,j]:\n",
    "    #            mdl.add(Labels[i]!=Labels[j])\n",
    "    for i,j in cl:\n",
    "         mdl.add(Labels[i]!=Labels[j])       \n",
    "    # mdl.add(S < Dist(i,j))\n",
    "    \n",
    "    #Optimization constraint\n",
    "    # mdl.add(D==diameter(Labels,Dists))\n",
    "    # mdl.add(S==split(Labels,Dists))\n",
    "    # mdl.add(V==wcsd(Labels,Dists))\n",
    "    \n",
    "    \n",
    "    #D diameter\n",
    "    mdl.add(mdl.minimize( \\\n",
    "        mdl.max([(Labels[i] == Labels[j]) * Dist[i,j] for i in range(N) for j in range(N)])))\n",
    "        \n",
    "    # mdl.add(mdl.maximize(score))\n",
    "    print(\"Done.\")    \n",
    "    return mdl,Labels"
   ]
  },
  {
   "cell_type": "code",
   "execution_count": 102,
   "metadata": {},
   "outputs": [
    {
     "name": "stdout",
     "output_type": "stream",
     "text": [
      "Calculating distances...\n",
      "Done.\n"
     ]
    }
   ],
   "source": [
    "mdl,lbls = create_csp_clustering(Data)"
   ]
  },
  {
   "cell_type": "code",
   "execution_count": 103,
   "metadata": {},
   "outputs": [
    {
     "name": "stdout",
     "output_type": "stream",
     "text": [
      "-------------------------------------------------------------------------------\n",
      "Model constraints: 204, variables: integer: 101, interval: 0, sequence: 0\n",
      "Solve status: Optimal\n",
      "Solve time: 0.15 sec\n",
      "-------------------------------------------------------------------------------\n",
      "Objective values: (4.6919,)\n",
      "k: 3\n",
      "x0: 1\n",
      "x1: 2\n",
      "x10: 3\n",
      "x11: 3\n",
      "x12: 1\n",
      "x13: 3\n",
      "x14: 2\n",
      "x15: 1\n",
      "x16: 2\n",
      "x17: 2\n",
      "x18: 2\n",
      "x19: 2\n",
      "x2: 1\n",
      "x20: 2\n",
      "x21: 2\n",
      "x22: 2\n",
      "x23: 2\n",
      "x24: 1\n",
      "x25: 1\n",
      "x26: 1\n",
      "x27: 1\n",
      "x28: 2\n",
      "x29: 2\n",
      "x3: 3\n",
      "x30: 3\n",
      "x31: 1\n",
      "x32: 1\n",
      "x33: 3\n",
      "x34: 2\n",
      "x35: 2\n",
      "x36: 3\n",
      "x37: 1\n",
      "x38: 1\n",
      "x39: 2\n",
      "x4: 3\n",
      "x40: 2\n",
      "x41: 1\n",
      "x42: 1\n",
      "x43: 3\n",
      "x44: 3\n",
      "x45: 2\n",
      "x46: 1\n",
      "x47: 1\n",
      "x48: 2\n",
      "x49: 2\n",
      "x5: 2\n",
      "x50: 2\n",
      "x51: 1\n",
      "x52: 2\n",
      "x53: 1\n",
      "x54: 2\n",
      "x55: 2\n",
      "x56: 1\n",
      "x57: 1\n",
      "x58: 2\n",
      "x59: 1\n",
      "x6: 2\n",
      "x60: 1\n",
      "x61: 2\n",
      "x62: 2\n",
      "x63: 2\n",
      "x64: 2\n",
      "x65: 1\n",
      "x66: 3\n",
      "x67: 2\n",
      "x68: 1\n",
      "x69: 3\n",
      "x7: 2\n",
      "x70: 2\n",
      "x71: 1\n",
      "x72: 2\n",
      "x73: 1\n",
      "x74: 1\n",
      "x75: 1\n",
      "x76: 2\n",
      "x77: 2\n",
      "x78: 2\n",
      "x79: 1\n",
      "x8: 1\n",
      "x80: 3\n",
      "x81: 3\n",
      "x82: 1\n",
      "x83: 2\n",
      "x84: 1\n",
      "x85: 3\n",
      "x86: 3\n",
      "x87: 2\n",
      "x88: 1\n",
      "x89: 2\n",
      "x9: 2\n",
      "x90: 1\n",
      "x91: 1\n",
      "x92: 2\n",
      "x93: 2\n",
      "x94: 2\n",
      "x95: 2\n",
      "x96: 2\n",
      "x97: 1\n",
      "x98: 2\n",
      "x99: 2\n",
      "\n"
     ]
    }
   ],
   "source": [
    "#print(mdl.propagate())\n",
    "print(mdl.solve())\n",
    "sol=mdl.solve()\n",
    "Attrib=[sol.get_value(lbl) for lbl in lbls]"
   ]
  },
  {
   "cell_type": "code",
   "execution_count": 108,
   "metadata": {
    "collapsed": true
   },
   "outputs": [],
   "source": [
    "import collections\n",
    "\n",
    "def cons_linking(cons):\n",
    "    dico = collections.defaultdict(set) # pt => list of pts\n",
    "    # linked = collections.defaultdict(set) # nb => list of pt\n",
    "    asso = dict() # pt => nb\n",
    "    for pt1, pt2 in cons:\n",
    "        dico[pt1].add(pt2)\n",
    "        dico[pt1].add(pt1)\n",
    "        dico[pt2].add(pt1)\n",
    "        dico[pt2].add(pt2)\n",
    "        asso[pt1] = pt1\n",
    "        asso[pt2] = pt2\n",
    "\n",
    "    pts = set(dico.keys())\n",
    "    for pt in pts:\n",
    "        for pt2 in pts :\n",
    "            # if the intersection is not empty\n",
    "            if asso[pt] != asso[pt2] \\\n",
    "            and not not dico[asso[pt]].intersection(dico[asso[pt2]]):\n",
    "                dico[asso[pt]].update(dico[asso[pt2]])\n",
    "                asso[pt2] = pt\n",
    "                del dico[pt2]\n",
    "\n",
    "    return list(dico.values())\n",
    "\n",
    "new_cons = cons_linking(ml)\n",
    "# Plotting the constraints\n",
    "# Plotting the equality constraints\n",
    "for cons in new_cons:\n",
    "    new_X_x = []\n",
    "    new_X_y = []\n",
    "    for pt in cons :\n",
    "        new_X_x.append(Data[pt, 0])\n",
    "        new_X_y.append(Data[pt, 1])\n",
    "\n",
    "    plt.plot(new_X_x,new_X_y,\n",
    "             'r^', linewidth=50)"
   ]
  },
  {
   "cell_type": "code",
   "execution_count": 109,
   "metadata": {},
   "outputs": [
    {
     "data": {
      "image/png": "[encoded data removed]",
      "text/plain": [
       "<matplotlib.figure.Figure at 0x7f82c04540f0>"
      ]
     },
     "metadata": {},
     "output_type": "display_data"
    }
   ],
   "source": [
    "#plotting Cannnotlink\n",
    "for pt1, pt2 in cl:\n",
    "    plt.plot([Data[pt1,0],Data[pt2,0]],\n",
    "             [Data[pt1,1],Data[pt2,1]],\n",
    "             'x', linewidth=50)\n",
    "\n",
    "#plotting Mustlink (done above)\n",
    "#for pt1, pt2 in ml:\n",
    "#    plt.plot([Data[pt1,0],Data[pt2,0]],\n",
    "#             [Data[pt1,1],Data[pt2,1]],\n",
    "#             '^', linewidth=50)\n",
    "\n",
    "plt.scatter(Data[:,0],Data[:,1],c=Attrib)\n",
    "plt.title(\"Attributions:\")\n",
    "plt.show()"
   ]
  },
  {
   "cell_type": "code",
   "execution_count": 106,
   "metadata": {},
   "outputs": [
    {
     "name": "stdout",
     "output_type": "stream",
     "text": [
      "[{1, 5, 6}]\n"
     ]
    }
   ],
   "source": [
    "print(new_cons)"
   ]
  },
  {
   "cell_type": "code",
   "execution_count": null,
   "metadata": {
    "collapsed": true
   },
   "outputs": [],
   "source": []
  },
  {
   "cell_type": "code",
   "execution_count": null,
   "metadata": {
    "collapsed": true
   },
   "outputs": [],
   "source": []
  }
 ],
 "metadata": {
  "kernelspec": {
   "display_name": "Python 3",
   "language": "python",
   "name": "python3"
  },
  "language_info": {
   "codemirror_mode": {
    "name": "ipython",
    "version": 3
   },
   "file_extension": ".py",
   "mimetype": "text/x-python",
   "name": "python",
   "nbconvert_exporter": "python",
   "pygments_lexer": "ipython3",
   "version": "3.6.3"
  }
 },
 "nbformat": 4,
 "nbformat_minor": 2
}
